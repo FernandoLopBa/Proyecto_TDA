{
 "cells": [
  {
   "cell_type": "markdown",
   "id": "2e845cb1",
   "metadata": {},
   "source": [
    "# Lanscapes of Crashes"
   ]
  },
  {
   "cell_type": "markdown",
   "id": "1310d571",
   "metadata": {},
   "source": [
    "**Este proyecto se basa en el artículo [Topological data analysis of finantial time series: Landscapes of crashes](https://arxiv.org/pdf/1703.04385.pdf) de Marian Gidea y Yuri Katz.**"
   ]
  },
  {
   "cell_type": "markdown",
   "id": "1da762ca",
   "metadata": {},
   "source": [
    "## Introducción"
   ]
  },
  {
   "cell_type": "markdown",
   "id": "291a3bc4",
   "metadata": {},
   "source": [
    "## Antecedentes"
   ]
  },
  {
   "cell_type": "markdown",
   "id": "376b5bd4",
   "metadata": {},
   "source": [
    "## Descripción del Método y pruebas en series de tiempo sintéticas"
   ]
  },
  {
   "cell_type": "markdown",
   "id": "de8847bd",
   "metadata": {},
   "source": [
    "## Análisis Empírico de Datos Financieros"
   ]
  },
  {
   "cell_type": "markdown",
   "id": "d63af9e7",
   "metadata": {},
   "source": [
    "## Conclusiones"
   ]
  },
  {
   "cell_type": "markdown",
   "id": "ebc5e319",
   "metadata": {},
   "source": [
    "## Bibliografía"
   ]
  },
  {
   "cell_type": "code",
   "execution_count": null,
   "id": "3d9b0d01",
   "metadata": {},
   "outputs": [],
   "source": []
  }
 ],
 "metadata": {
  "kernelspec": {
   "display_name": "Python 3 (ipykernel)",
   "language": "python",
   "name": "python3"
  },
  "language_info": {
   "codemirror_mode": {
    "name": "ipython",
    "version": 3
   },
   "file_extension": ".py",
   "mimetype": "text/x-python",
   "name": "python",
   "nbconvert_exporter": "python",
   "pygments_lexer": "ipython3",
   "version": "3.9.7"
  }
 },
 "nbformat": 4,
 "nbformat_minor": 5
}
