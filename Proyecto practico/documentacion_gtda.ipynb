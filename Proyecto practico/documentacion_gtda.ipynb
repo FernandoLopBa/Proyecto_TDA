{
 "cells": [
  {
   "cell_type": "code",
   "execution_count": null,
   "metadata": {},
   "outputs": [],
   "source": [
    "##Diagramas\n",
    "# VR = VietorisRipsPersistence(homology_dimensions=[1]) - Inicializa el objeto de persistencia VR\n",
    "# VR.fit_transform(X) - Transforma un conjunto de nubes de puntos en un conjunto de diagramas de persistencia\n",
    "# plot_diagram(Diagramas[n]) - plotea un diagrama de un conjunto de diagramas de de persistencia , es importante especificar cual diagrama se plotea\n",
    "\n",
    "\n",
    "##Paisajes\n",
    "# PL=persistence_landscape(n_layers=,n_bins=) - inicializa el objeto de paisajes de persistencia\n",
    "# PL.fit_transform(X) - convierte un conjunto de diagramas de persistencia X en su respectivo conjunto de paisjes de persistencia\n",
    "# PL.plot(X) - plotea un conjunto de paisajes de persistencia"
   ]
  }
 ],
 "metadata": {
  "kernelspec": {
   "display_name": "NTDA",
   "language": "python",
   "name": "ntda"
  },
  "language_info": {
   "codemirror_mode": {
    "name": "ipython",
    "version": 3
   },
   "file_extension": ".py",
   "mimetype": "text/x-python",
   "name": "python",
   "nbconvert_exporter": "python",
   "pygments_lexer": "ipython3",
   "version": "3.8.12"
  }
 },
 "nbformat": 4,
 "nbformat_minor": 4
}
